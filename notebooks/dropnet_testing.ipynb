{
 "cells": [
  {
   "cell_type": "markdown",
   "id": "38404323-a01a-4a6c-b5cb-d722e263d978",
   "metadata": {},
   "source": [
    "# Evaluate trained model\n",
    "## Generate random weight masks during inference"
   ]
  },
  {
   "cell_type": "code",
   "execution_count": 1,
   "id": "d57fac21-d4b1-40e2-a15c-7487ce84c545",
   "metadata": {
    "ExecuteTime": {
     "end_time": "2024-02-02T18:47:47.798697Z",
     "start_time": "2024-02-02T18:47:43.410167700Z"
    }
   },
   "outputs": [
    {
     "name": "stderr",
     "output_type": "stream",
     "text": [
      "C:\\Users\\mengz\\anaconda3\\envs\\dropnet_env\\lib\\site-packages\\torchvision\\io\\image.py:13: UserWarning: Failed to load image Python extension: '[WinError 127] The specified procedure could not be found'If you don't plan on using image functionality from `torchvision.io`, you can ignore this warning. Otherwise, there might be something wrong with your environment. Did you have `libjpeg` or `libpng` installed before building `torchvision` from source?\n",
      "  warn(\n"
     ]
    }
   ],
   "source": [
    "import argparse\n",
    "import os\n",
    "import sys\n",
    "import importlib\n",
    "import inspect\n",
    "import warnings\n",
    "import shutil\n",
    "import time\n",
    "import json\n",
    "import numpy as np\n",
    "# import pandas as pd\n",
    "from matplotlib import pyplot as plt\n",
    "\n",
    "import torch\n",
    "import torch.nn as nn\n",
    "import torch.utils.data\n",
    "import torchvision.datasets as datasets\n",
    "import torchvision.transforms as transforms"
   ]
  },
  {
   "cell_type": "code",
   "execution_count": 2,
   "id": "23727e1909c7b731",
   "metadata": {
    "ExecuteTime": {
     "end_time": "2024-02-02T18:50:15.138712Z",
     "start_time": "2024-02-02T18:50:15.133139100Z"
    },
    "collapsed": false,
    "jupyter": {
     "outputs_hidden": false
    }
   },
   "outputs": [],
   "source": [
    "repo_path = r'C:\\Users\\mengz\\Box\\Li_Lab\\DropConnect\\METHODS\\dropnet'\n",
    "sys.path.append(repo_path)"
   ]
  },
  {
   "cell_type": "code",
   "execution_count": 3,
   "id": "597a8d90-4bfd-4caa-8bd4-e31a4c39470c",
   "metadata": {},
   "outputs": [],
   "source": [
    "from recorder import AverageMeter, ProgressMeter, Summary, Plot\n",
    "from training_utils import validate"
   ]
  },
  {
   "cell_type": "markdown",
   "id": "d9c1f81a176b758d",
   "metadata": {
    "collapsed": false,
    "jupyter": {
     "outputs_hidden": false
    }
   },
   "source": [
    "## Import Model"
   ]
  },
  {
   "cell_type": "code",
   "execution_count": 4,
   "id": "173baed6-181f-4c77-ad8a-7366dfa18613",
   "metadata": {
    "ExecuteTime": {
     "end_time": "2024-02-02T19:55:12.646260500Z",
     "start_time": "2024-02-02T19:55:12.629643Z"
    }
   },
   "outputs": [
    {
     "name": "stdout",
     "output_type": "stream",
     "text": [
      "Model models.ResNet successfully imported\n"
     ]
    }
   ],
   "source": [
    "# model_name = 'DCtwoBottlenecks'\n",
    "model_name = 'ResNet'\n",
    "model_path = 'models'\n",
    "module = importlib.import_module(f'{model_path}.{model_name}')\n",
    "model_class = None\n",
    "\n",
    "for name, obj in inspect.getmembers(module):\n",
    "    if inspect.isclass(obj):\n",
    "        if model_path + '.' + name == module.__name__:\n",
    "            print(f'Model {module.__name__} successfully imported')\n",
    "            model_class = obj"
   ]
  },
  {
   "cell_type": "code",
   "execution_count": 5,
   "id": "807c116b50bf6d4b",
   "metadata": {
    "collapsed": false,
    "jupyter": {
     "outputs_hidden": false
    }
   },
   "outputs": [],
   "source": [
    "### Create model with specific size\n",
    "# model_params = {'drop_prob': 0.5,\n",
    "#                'out_1': 3,\n",
    "#                'er_1': 6,\n",
    "#                'out_2': 6,\n",
    "#                'er_2': 6,}\n",
    "\n",
    "# model_params = {'drop_prob': 0.5,\n",
    "#                'out_1': 4,\n",
    "#                'er_1': 6,\n",
    "#                'out_2': 8,\n",
    "#                'er_2': 6,}\n",
    "\n",
    "# model = model_class(drop_probs=model_params.get('drop_prob'),\n",
    "#                     out_1=model_params.get('out_1'),\n",
    "#                     er_1=model_params.get('er_1'),\n",
    "#                     out_2=model_params.get('out_2'),\n",
    "#                     er_2=model_params.get('er_2'))"
   ]
  },
  {
   "cell_type": "code",
   "execution_count": 13,
   "id": "a6c59b95-4c6a-4e5b-ac51-0095cab842ed",
   "metadata": {},
   "outputs": [],
   "source": [
    "block_setting = [\n",
    "                 [3, [{\"replace_conv\": [0, 0],\n",
    "                       \"drop_probs\": [0, 0]},\n",
    "                      {\"replace_conv\": [1, 0],\n",
    "                       \"drop_probs\": [0.2, 0]},\n",
    "                      {\"replace_conv\": [0, 0],\n",
    "                       \"drop_probs\": [0, 0]},\n",
    "                     ]\n",
    "                  ], \n",
    "                  [3, [{\"replace_conv\": [0, 0],\n",
    "                       \"drop_probs\": [0, 0]},\n",
    "                      {\"replace_conv\": [1, 0],\n",
    "                       'drop_probs': [0, 0]},\n",
    "                      {\"replace_conv\": [0, 0],\n",
    "                       \"drop_probs\": [0, 0]},\n",
    "                     ]\n",
    "                  ],\n",
    "                  [3, [{\"replace_conv\": [0, 1],\n",
    "                       \"drop_probs\": [0, 0]},\n",
    "                      {\"replace_conv\": [0, 0],\n",
    "                       \"drop_probs\": [0, 0]},\n",
    "                      {\"replace_conv\": [0, 0],\n",
    "                       \"drop_probs\": [0, 0]},\n",
    "                     ]\n",
    "                  ],\n",
    "                ]\n",
    "\n",
    "model = model_class(block_setting=block_setting)"
   ]
  },
  {
   "cell_type": "code",
   "execution_count": 7,
   "id": "e8a41b10d6e599de",
   "metadata": {
    "ExecuteTime": {
     "end_time": "2024-02-02T20:03:26.512406100Z",
     "start_time": "2024-02-02T20:03:26.446926200Z"
    },
    "collapsed": false,
    "jupyter": {
     "outputs_hidden": false
    }
   },
   "outputs": [
    {
     "name": "stdout",
     "output_type": "stream",
     "text": [
      "C:\\Users\\mengz\\Box\\Li_Lab\\DropConnect\\METHODS\\dropnet\\checkpoints\\DCtwoBottlenecks_checkpts\\DCtwoBottlenecks_dr0.5_out1_4_er1_6_out2_8_er2_6\\checkpoint.pth\n",
      "Trained model checkpoint successfully loaded\n"
     ]
    }
   ],
   "source": [
    "### load trained model parameters\n",
    "checkpoint_root_path = r'C:\\Users\\mengz\\Box\\Li_Lab\\DropConnect\\METHODS\\dropnet\\checkpoints'\n",
    "model_checkpoint_folder = r'\\DCtwoBottlenecks_checkpts'\n",
    "model_param_folder = (f\"\\DCtwoBottlenecks_dr{model_params.get('drop_prob')}_out1_{model_params.get('out_1')}_er1_{model_params.get('er_1')}_\" + \n",
    "                     f\"out2_{model_params.get('out_2')}_er2_{model_params.get('er_2')}\")\n",
    "checkpoint_path = f'{checkpoint_root_path}{model_checkpoint_folder}{model_param_folder}\\checkpoint.pth'\n",
    "print(checkpoint_path)\n",
    "\n",
    "if os.path.isfile(checkpoint_path):\n",
    "    model_trained_state = torch.load(checkpoint_path)\n",
    "else:\n",
    "    print('No model checkpoint with such shape found')\n",
    "\n",
    "if model_trained_state['arch'] == model_name:\n",
    "    model.load_state_dict(model_trained_state['state_dict'])\n",
    "    print('Trained model checkpoint successfully loaded')"
   ]
  },
  {
   "cell_type": "markdown",
   "id": "c6e7df38f69dd604",
   "metadata": {
    "collapsed": false,
    "jupyter": {
     "outputs_hidden": false
    }
   },
   "source": [
    "## Load Data"
   ]
  },
  {
   "cell_type": "code",
   "execution_count": 8,
   "id": "62b37f4cc85a066d",
   "metadata": {
    "ExecuteTime": {
     "end_time": "2024-02-02T19:49:46.395111900Z",
     "start_time": "2024-02-02T19:49:44.479796Z"
    },
    "collapsed": false,
    "jupyter": {
     "outputs_hidden": false
    },
    "scrolled": true
   },
   "outputs": [],
   "source": [
    "# Data loading code\n",
    "dataset = 'mnist'\n",
    "\n",
    "if dataset == 'mnist':\n",
    "\n",
    "    val_dataset = datasets.MNIST(root='data', train=False,\n",
    "        transform=transforms.Compose([\n",
    "        transforms.ToTensor(),\n",
    "        transforms.Normalize((0.1307,), (0.3081,))\n",
    "    ]), download=True)\n",
    "\n",
    "elif dataset == 'cifar10':\n",
    "    normalize = transforms.Normalize(mean=[0.485, 0.456, 0.406],\n",
    "                                 std=[0.229, 0.224, 0.225])\n",
    "\n",
    "    val_dataset = datasets.CIFAR10(root='data', train=False, transform=transforms.Compose([\n",
    "        transforms.ToTensor(),\n",
    "        normalize,\n",
    "    ]))\n",
    "    \n",
    "else:\n",
    "    print(\"Dataset not supported\")"
   ]
  },
  {
   "cell_type": "code",
   "execution_count": 9,
   "id": "5568a5f8-88e4-42b0-9849-79e616403500",
   "metadata": {},
   "outputs": [],
   "source": [
    "val_loader = torch.utils.data.DataLoader(val_dataset, batch_size=128, shuffle=False,pin_memory=True)"
   ]
  },
  {
   "cell_type": "markdown",
   "id": "4124f574-4dda-4334-b33e-3b6a18b83a53",
   "metadata": {
    "collapsed": false,
    "jupyter": {
     "outputs_hidden": false
    }
   },
   "source": [
    "## Evaluate model (inference)"
   ]
  },
  {
   "cell_type": "code",
   "execution_count": 10,
   "id": "4ed74acc-8e64-40b6-9222-f4d18fbfdede",
   "metadata": {},
   "outputs": [],
   "source": [
    "# Validate() parameters\n",
    "class val_args:\n",
    "    def __init__(self, print_freq=20, gpu=None):\n",
    "        self.print_freq=print_freq\n",
    "        self.gpu=gpu\n",
    "\n",
    "# define loss function (criterion)\n",
    "criterion = nn.CrossEntropyLoss()"
   ]
  },
  {
   "cell_type": "code",
   "execution_count": 42,
   "id": "4acb4e53-3bb1-4b0e-be87-29b0ef090df5",
   "metadata": {},
   "outputs": [
    {
     "data": {
      "text/plain": [
       "array([0.1, 0.2, 0.3, 0.4, 0.5])"
      ]
     },
     "execution_count": 42,
     "metadata": {},
     "output_type": "execute_result"
    }
   ],
   "source": [
    "# acc, loss = validate(val_loader, model, criterion, val_args())\n",
    "np.arange(0.1, 0.6, 0.1)"
   ]
  },
  {
   "cell_type": "code",
   "execution_count": 45,
   "id": "7fd1d741-19fc-45aa-9a21-3abaff011dce",
   "metadata": {
    "scrolled": true
   },
   "outputs": [
    {
     "name": "stdout",
     "output_type": "stream",
     "text": [
      "-------------- Run 1 --------------\n",
      "Trained model checkpoint successfully loaded\n",
      "Test: [ 1/79]\tTime  0.063 ( 0.063)\tLoss 1.2374e-01 (1.2374e-01)\tAcc@1  98.44 ( 98.44)\tAcc@5 100.00 (100.00)\n",
      "Test: [51/79]\tTime  0.052 ( 0.050)\tLoss 7.0149e-02 (1.8251e-01)\tAcc@1  98.44 ( 94.33)\tAcc@5 100.00 ( 99.91)\n",
      "-------------- Run 2 --------------\n",
      "Trained model checkpoint successfully loaded\n",
      "Test: [ 1/79]\tTime  0.048 ( 0.048)\tLoss 8.9549e-02 (8.9549e-02)\tAcc@1  98.44 ( 98.44)\tAcc@5 100.00 (100.00)\n",
      "Test: [51/79]\tTime  0.053 ( 0.050)\tLoss 5.9414e-02 (1.3949e-01)\tAcc@1  99.22 ( 95.91)\tAcc@5 100.00 ( 99.92)\n",
      "-------------- Run 3 --------------\n",
      "Trained model checkpoint successfully loaded\n",
      "Test: [ 1/79]\tTime  0.058 ( 0.058)\tLoss 1.5338e-01 (1.5338e-01)\tAcc@1  93.75 ( 93.75)\tAcc@5 100.00 (100.00)\n",
      "Test: [51/79]\tTime  0.051 ( 0.056)\tLoss 8.9898e-02 (2.5499e-01)\tAcc@1  99.22 ( 92.52)\tAcc@5 100.00 ( 99.79)\n",
      "-------------- Run 4 --------------\n",
      "Trained model checkpoint successfully loaded\n",
      "Test: [ 1/79]\tTime  0.050 ( 0.050)\tLoss 9.2204e-02 (9.2204e-02)\tAcc@1  98.44 ( 98.44)\tAcc@5 100.00 (100.00)\n",
      "Test: [51/79]\tTime  0.050 ( 0.051)\tLoss 6.1058e-02 (1.8604e-01)\tAcc@1  99.22 ( 94.59)\tAcc@5 100.00 ( 99.88)\n",
      "-------------- Run 5 --------------\n",
      "Trained model checkpoint successfully loaded\n",
      "Test: [ 1/79]\tTime  0.053 ( 0.053)\tLoss 1.3064e-01 (1.3064e-01)\tAcc@1  96.09 ( 96.09)\tAcc@5 100.00 (100.00)\n",
      "Test: [51/79]\tTime  0.052 ( 0.052)\tLoss 5.7595e-02 (2.6832e-01)\tAcc@1  99.22 ( 92.06)\tAcc@5 100.00 ( 99.74)\n",
      "-------------- Run 6 --------------\n",
      "Trained model checkpoint successfully loaded\n",
      "Test: [ 1/79]\tTime  0.051 ( 0.051)\tLoss 1.2022e-01 (1.2022e-01)\tAcc@1  96.88 ( 96.88)\tAcc@5 100.00 (100.00)\n",
      "Test: [51/79]\tTime  0.059 ( 0.054)\tLoss 7.5764e-02 (2.3048e-01)\tAcc@1  99.22 ( 93.47)\tAcc@5 100.00 ( 99.82)\n",
      "-------------- Run 7 --------------\n",
      "Trained model checkpoint successfully loaded\n",
      "Test: [ 1/79]\tTime  0.058 ( 0.058)\tLoss 6.9917e-02 (6.9917e-02)\tAcc@1  98.44 ( 98.44)\tAcc@5 100.00 (100.00)\n",
      "Test: [51/79]\tTime  0.062 ( 0.058)\tLoss 5.2887e-02 (1.5955e-01)\tAcc@1  99.22 ( 95.42)\tAcc@5 100.00 ( 99.95)\n",
      "-------------- Run 8 --------------\n",
      "Trained model checkpoint successfully loaded\n",
      "Test: [ 1/79]\tTime  0.054 ( 0.054)\tLoss 1.0624e-01 (1.0624e-01)\tAcc@1  96.09 ( 96.09)\tAcc@5 100.00 (100.00)\n",
      "Test: [51/79]\tTime  0.051 ( 0.052)\tLoss 6.8641e-02 (2.2953e-01)\tAcc@1  99.22 ( 93.21)\tAcc@5 100.00 ( 99.82)\n",
      "-------------- Run 9 --------------\n",
      "Trained model checkpoint successfully loaded\n",
      "Test: [ 1/79]\tTime  0.052 ( 0.052)\tLoss 8.5621e-02 (8.5621e-02)\tAcc@1  98.44 ( 98.44)\tAcc@5 100.00 (100.00)\n",
      "Test: [51/79]\tTime  0.053 ( 0.053)\tLoss 6.9217e-02 (1.6934e-01)\tAcc@1  99.22 ( 95.07)\tAcc@5  99.22 ( 99.89)\n",
      "-------------- Run 10 --------------\n",
      "Trained model checkpoint successfully loaded\n",
      "Test: [ 1/79]\tTime  0.050 ( 0.050)\tLoss 1.1508e-01 (1.1508e-01)\tAcc@1  97.66 ( 97.66)\tAcc@5 100.00 (100.00)\n",
      "Test: [51/79]\tTime  0.069 ( 0.057)\tLoss 1.0947e-01 (3.3482e-01)\tAcc@1  97.66 ( 90.38)\tAcc@5 100.00 ( 99.69)\n",
      "-------------- Run 11 --------------\n",
      "Trained model checkpoint successfully loaded\n",
      "Test: [ 1/79]\tTime  0.055 ( 0.055)\tLoss 9.6455e-02 (9.6455e-02)\tAcc@1  97.66 ( 97.66)\tAcc@5 100.00 (100.00)\n",
      "Test: [51/79]\tTime  0.229 ( 0.107)\tLoss 8.3820e-02 (2.5687e-01)\tAcc@1  99.22 ( 92.54)\tAcc@5 100.00 ( 99.80)\n",
      "-------------- Run 12 --------------\n",
      "Trained model checkpoint successfully loaded\n",
      "Test: [ 1/79]\tTime  0.134 ( 0.134)\tLoss 8.8037e-02 (8.8037e-02)\tAcc@1  98.44 ( 98.44)\tAcc@5 100.00 (100.00)\n",
      "Test: [51/79]\tTime  0.058 ( 0.072)\tLoss 6.0948e-02 (1.4920e-01)\tAcc@1  99.22 ( 95.66)\tAcc@5 100.00 ( 99.95)\n",
      "-------------- Run 13 --------------\n",
      "Trained model checkpoint successfully loaded\n",
      "Test: [ 1/79]\tTime  0.056 ( 0.056)\tLoss 1.5027e-01 (1.5027e-01)\tAcc@1  96.09 ( 96.09)\tAcc@5 100.00 (100.00)\n",
      "Test: [51/79]\tTime  0.051 ( 0.057)\tLoss 8.8180e-02 (3.3504e-01)\tAcc@1  98.44 ( 90.87)\tAcc@5 100.00 ( 99.74)\n",
      "-------------- Run 14 --------------\n",
      "Trained model checkpoint successfully loaded\n",
      "Test: [ 1/79]\tTime  0.050 ( 0.050)\tLoss 7.5404e-02 (7.5404e-02)\tAcc@1  98.44 ( 98.44)\tAcc@5 100.00 (100.00)\n",
      "Test: [51/79]\tTime  0.050 ( 0.050)\tLoss 6.0324e-02 (1.5577e-01)\tAcc@1  99.22 ( 95.48)\tAcc@5 100.00 ( 99.92)\n",
      "-------------- Run 15 --------------\n",
      "Trained model checkpoint successfully loaded\n",
      "Test: [ 1/79]\tTime  0.050 ( 0.050)\tLoss 2.2721e-01 (2.2721e-01)\tAcc@1  93.75 ( 93.75)\tAcc@5 100.00 (100.00)\n",
      "Test: [51/79]\tTime  0.055 ( 0.051)\tLoss 1.1910e-01 (4.2491e-01)\tAcc@1  98.44 ( 87.97)\tAcc@5  99.22 ( 99.53)\n",
      "-------------- Run 16 --------------\n",
      "Trained model checkpoint successfully loaded\n",
      "Test: [ 1/79]\tTime  0.057 ( 0.057)\tLoss 1.0172e-01 (1.0172e-01)\tAcc@1  96.88 ( 96.88)\tAcc@5 100.00 (100.00)\n",
      "Test: [51/79]\tTime  0.049 ( 0.052)\tLoss 5.6417e-02 (2.0736e-01)\tAcc@1  99.22 ( 93.73)\tAcc@5 100.00 ( 99.82)\n",
      "-------------- Run 17 --------------\n",
      "Trained model checkpoint successfully loaded\n",
      "Test: [ 1/79]\tTime  0.065 ( 0.065)\tLoss 8.3635e-02 (8.3635e-02)\tAcc@1  98.44 ( 98.44)\tAcc@5 100.00 (100.00)\n",
      "Test: [51/79]\tTime  0.060 ( 0.056)\tLoss 6.4569e-02 (1.8065e-01)\tAcc@1  99.22 ( 94.75)\tAcc@5 100.00 ( 99.92)\n",
      "-------------- Run 18 --------------\n",
      "Trained model checkpoint successfully loaded\n",
      "Test: [ 1/79]\tTime  0.051 ( 0.051)\tLoss 8.0819e-02 (8.0819e-02)\tAcc@1  98.44 ( 98.44)\tAcc@5 100.00 (100.00)\n",
      "Test: [51/79]\tTime  0.049 ( 0.052)\tLoss 5.4473e-02 (1.5120e-01)\tAcc@1  99.22 ( 95.62)\tAcc@5 100.00 ( 99.95)\n",
      "-------------- Run 19 --------------\n",
      "Trained model checkpoint successfully loaded\n",
      "Test: [ 1/79]\tTime  0.049 ( 0.049)\tLoss 9.9718e-02 (9.9718e-02)\tAcc@1  97.66 ( 97.66)\tAcc@5 100.00 (100.00)\n",
      "Test: [51/79]\tTime  0.049 ( 0.050)\tLoss 4.6344e-02 (2.2374e-01)\tAcc@1  99.22 ( 93.29)\tAcc@5 100.00 ( 99.80)\n",
      "-------------- Run 20 --------------\n",
      "Trained model checkpoint successfully loaded\n",
      "Test: [ 1/79]\tTime  0.050 ( 0.050)\tLoss 8.3396e-02 (8.3396e-02)\tAcc@1  97.66 ( 97.66)\tAcc@5 100.00 (100.00)\n",
      "Test: [51/79]\tTime  0.050 ( 0.050)\tLoss 6.9320e-02 (2.3820e-01)\tAcc@1  99.22 ( 93.06)\tAcc@5 100.00 ( 99.80)\n",
      "-------------- Run 1 --------------\n",
      "Trained model checkpoint successfully loaded\n",
      "Test: [ 1/79]\tTime  0.058 ( 0.058)\tLoss 2.3817e-01 (2.3817e-01)\tAcc@1  92.19 ( 92.19)\tAcc@5 100.00 (100.00)\n",
      "Test: [51/79]\tTime  0.053 ( 0.054)\tLoss 1.6296e-01 (3.9037e-01)\tAcc@1  97.66 ( 89.54)\tAcc@5  99.22 ( 99.53)\n",
      "-------------- Run 2 --------------\n",
      "Trained model checkpoint successfully loaded\n",
      "Test: [ 1/79]\tTime  0.050 ( 0.050)\tLoss 4.0205e-01 (4.0205e-01)\tAcc@1  87.50 ( 87.50)\tAcc@5 100.00 (100.00)\n",
      "Test: [51/79]\tTime  0.050 ( 0.050)\tLoss 2.9731e-01 (6.6799e-01)\tAcc@1  90.62 ( 81.31)\tAcc@5  99.22 ( 99.00)\n",
      "-------------- Run 3 --------------\n",
      "Trained model checkpoint successfully loaded\n",
      "Test: [ 1/79]\tTime  0.050 ( 0.050)\tLoss 5.7917e-01 (5.7917e-01)\tAcc@1  81.25 ( 81.25)\tAcc@5  98.44 ( 98.44)\n",
      "Test: [51/79]\tTime  0.050 ( 0.050)\tLoss 3.5887e-01 (7.8438e-01)\tAcc@1  89.06 ( 76.65)\tAcc@5  98.44 ( 98.73)\n",
      "-------------- Run 4 --------------\n",
      "Trained model checkpoint successfully loaded\n",
      "Test: [ 1/79]\tTime  0.051 ( 0.051)\tLoss 7.2509e-01 (7.2509e-01)\tAcc@1  75.00 ( 75.00)\tAcc@5  98.44 ( 98.44)\n",
      "Test: [51/79]\tTime  0.063 ( 0.051)\tLoss 3.9927e-01 (8.5878e-01)\tAcc@1  82.81 ( 73.35)\tAcc@5 100.00 ( 99.10)\n",
      "-------------- Run 5 --------------\n",
      "Trained model checkpoint successfully loaded\n",
      "Test: [ 1/79]\tTime  0.060 ( 0.060)\tLoss 1.1277e-01 (1.1277e-01)\tAcc@1  97.66 ( 97.66)\tAcc@5 100.00 (100.00)\n",
      "Test: [51/79]\tTime  0.050 ( 0.053)\tLoss 9.2238e-02 (2.5767e-01)\tAcc@1  99.22 ( 92.52)\tAcc@5 100.00 ( 99.82)\n",
      "-------------- Run 6 --------------\n",
      "Trained model checkpoint successfully loaded\n",
      "Test: [ 1/79]\tTime  0.050 ( 0.050)\tLoss 7.6643e-01 (7.6643e-01)\tAcc@1  78.12 ( 78.12)\tAcc@5  97.66 ( 97.66)\n",
      "Test: [51/79]\tTime  0.049 ( 0.050)\tLoss 7.3370e-01 (1.1785e+00)\tAcc@1  78.12 ( 70.11)\tAcc@5  98.44 ( 97.96)\n",
      "-------------- Run 7 --------------\n",
      "Trained model checkpoint successfully loaded\n",
      "Test: [ 1/79]\tTime  0.050 ( 0.050)\tLoss 2.2621e-01 (2.2621e-01)\tAcc@1  91.41 ( 91.41)\tAcc@5 100.00 (100.00)\n",
      "Test: [51/79]\tTime  0.050 ( 0.050)\tLoss 1.2771e-01 (4.3075e-01)\tAcc@1  98.44 ( 86.92)\tAcc@5  99.22 ( 99.56)\n",
      "-------------- Run 8 --------------\n",
      "Trained model checkpoint successfully loaded\n",
      "Test: [ 1/79]\tTime  0.049 ( 0.049)\tLoss 1.8787e-01 (1.8787e-01)\tAcc@1  93.75 ( 93.75)\tAcc@5 100.00 (100.00)\n",
      "Test: [51/79]\tTime  0.058 ( 0.052)\tLoss 1.2051e-01 (3.0439e-01)\tAcc@1  97.66 ( 91.31)\tAcc@5  99.22 ( 99.68)\n",
      "-------------- Run 9 --------------\n",
      "Trained model checkpoint successfully loaded\n",
      "Test: [ 1/79]\tTime  0.059 ( 0.059)\tLoss 3.3457e-01 (3.3457e-01)\tAcc@1  89.06 ( 89.06)\tAcc@5  99.22 ( 99.22)\n",
      "Test: [51/79]\tTime  0.050 ( 0.053)\tLoss 1.7990e-01 (4.6873e-01)\tAcc@1  95.31 ( 85.68)\tAcc@5  99.22 ( 99.25)\n",
      "-------------- Run 10 --------------\n",
      "Trained model checkpoint successfully loaded\n",
      "Test: [ 1/79]\tTime  0.052 ( 0.052)\tLoss 4.0647e-01 (4.0647e-01)\tAcc@1  82.81 ( 82.81)\tAcc@5 100.00 (100.00)\n",
      "Test: [51/79]\tTime  0.051 ( 0.050)\tLoss 2.1715e-01 (6.2444e-01)\tAcc@1  95.31 ( 82.35)\tAcc@5  99.22 ( 99.30)\n",
      "-------------- Run 11 --------------\n",
      "Trained model checkpoint successfully loaded\n",
      "Test: [ 1/79]\tTime  0.052 ( 0.052)\tLoss 1.3561e-01 (1.3561e-01)\tAcc@1  94.53 ( 94.53)\tAcc@5 100.00 (100.00)\n",
      "Test: [51/79]\tTime  0.050 ( 0.051)\tLoss 1.1001e-01 (2.8785e-01)\tAcc@1  99.22 ( 91.56)\tAcc@5 100.00 ( 99.77)\n",
      "-------------- Run 12 --------------\n",
      "Trained model checkpoint successfully loaded\n",
      "Test: [ 1/79]\tTime  0.051 ( 0.051)\tLoss 3.1937e-01 (3.1937e-01)\tAcc@1  85.94 ( 85.94)\tAcc@5 100.00 (100.00)\n",
      "Test: [51/79]\tTime  0.057 ( 0.052)\tLoss 2.0195e-01 (4.8532e-01)\tAcc@1  95.31 ( 85.77)\tAcc@5  99.22 ( 99.49)\n",
      "-------------- Run 13 --------------\n",
      "Trained model checkpoint successfully loaded\n",
      "Test: [ 1/79]\tTime  0.056 ( 0.056)\tLoss 2.6789e-01 (2.6789e-01)\tAcc@1  88.28 ( 88.28)\tAcc@5 100.00 (100.00)\n",
      "Test: [51/79]\tTime  0.054 ( 0.053)\tLoss 1.8388e-01 (5.0569e-01)\tAcc@1  95.31 ( 84.47)\tAcc@5  99.22 ( 99.39)\n",
      "-------------- Run 14 --------------\n",
      "Trained model checkpoint successfully loaded\n",
      "Test: [ 1/79]\tTime  0.050 ( 0.050)\tLoss 5.3905e-01 (5.3905e-01)\tAcc@1  80.47 ( 80.47)\tAcc@5 100.00 (100.00)\n",
      "Test: [51/79]\tTime  0.051 ( 0.051)\tLoss 4.7567e-01 (6.3946e-01)\tAcc@1  83.59 ( 80.18)\tAcc@5 100.00 ( 99.53)\n",
      "-------------- Run 15 --------------\n",
      "Trained model checkpoint successfully loaded\n",
      "Test: [ 1/79]\tTime  0.054 ( 0.054)\tLoss 4.1226e-01 (4.1226e-01)\tAcc@1  85.94 ( 85.94)\tAcc@5  98.44 ( 98.44)\n",
      "Test: [51/79]\tTime  0.053 ( 0.054)\tLoss 2.2580e-01 (6.3734e-01)\tAcc@1  94.53 ( 82.94)\tAcc@5  99.22 ( 98.74)\n",
      "-------------- Run 16 --------------\n",
      "Trained model checkpoint successfully loaded\n",
      "Test: [ 1/79]\tTime  0.051 ( 0.051)\tLoss 2.7266e-01 (2.7266e-01)\tAcc@1  88.28 ( 88.28)\tAcc@5 100.00 (100.00)\n",
      "Test: [51/79]\tTime  0.064 ( 0.056)\tLoss 1.3758e-01 (4.2039e-01)\tAcc@1  97.66 ( 87.53)\tAcc@5  99.22 ( 99.48)\n",
      "-------------- Run 17 --------------\n",
      "Trained model checkpoint successfully loaded\n",
      "Test: [ 1/79]\tTime  0.060 ( 0.060)\tLoss 2.0352e-01 (2.0352e-01)\tAcc@1  92.97 ( 92.97)\tAcc@5 100.00 (100.00)\n",
      "Test: [51/79]\tTime  0.050 ( 0.052)\tLoss 9.5086e-02 (2.7233e-01)\tAcc@1  98.44 ( 91.71)\tAcc@5 100.00 ( 99.77)\n",
      "-------------- Run 18 --------------\n",
      "Trained model checkpoint successfully loaded\n",
      "Test: [ 1/79]\tTime  0.051 ( 0.051)\tLoss 5.0140e-01 (5.0140e-01)\tAcc@1  82.81 ( 82.81)\tAcc@5 100.00 (100.00)\n",
      "Test: [51/79]\tTime  0.052 ( 0.052)\tLoss 2.9650e-01 (6.4058e-01)\tAcc@1  87.50 ( 80.78)\tAcc@5 100.00 ( 99.56)\n",
      "-------------- Run 19 --------------\n",
      "Trained model checkpoint successfully loaded\n",
      "Test: [ 1/79]\tTime  0.054 ( 0.054)\tLoss 2.7906e-01 (2.7906e-01)\tAcc@1  89.84 ( 89.84)\tAcc@5 100.00 (100.00)\n",
      "Test: [51/79]\tTime  0.052 ( 0.052)\tLoss 1.5943e-01 (4.9878e-01)\tAcc@1  96.09 ( 85.68)\tAcc@5  99.22 ( 99.17)\n",
      "-------------- Run 20 --------------\n",
      "Trained model checkpoint successfully loaded\n",
      "Test: [ 1/79]\tTime  0.064 ( 0.064)\tLoss 2.3496e-01 (2.3496e-01)\tAcc@1  91.41 ( 91.41)\tAcc@5 100.00 (100.00)\n",
      "Test: [51/79]\tTime  0.065 ( 0.058)\tLoss 1.4035e-01 (4.6312e-01)\tAcc@1  98.44 ( 86.09)\tAcc@5  99.22 ( 99.63)\n",
      "-------------- Run 1 --------------\n",
      "Trained model checkpoint successfully loaded\n",
      "Test: [ 1/79]\tTime  0.050 ( 0.050)\tLoss 1.3855e+00 (1.3855e+00)\tAcc@1  66.41 ( 66.41)\tAcc@5  97.66 ( 97.66)\n",
      "Test: [51/79]\tTime  0.051 ( 0.053)\tLoss 7.9701e-01 (1.4317e+00)\tAcc@1  78.12 ( 63.08)\tAcc@5  99.22 ( 98.44)\n",
      "-------------- Run 2 --------------\n",
      "Trained model checkpoint successfully loaded\n",
      "Test: [ 1/79]\tTime  0.053 ( 0.053)\tLoss 9.0284e-01 (9.0284e-01)\tAcc@1  69.53 ( 69.53)\tAcc@5  97.66 ( 97.66)\n",
      "Test: [51/79]\tTime  0.051 ( 0.054)\tLoss 6.5532e-01 (1.1626e+00)\tAcc@1  80.47 ( 67.26)\tAcc@5  98.44 ( 98.21)\n",
      "-------------- Run 3 --------------\n",
      "Trained model checkpoint successfully loaded\n",
      "Test: [ 1/79]\tTime  0.050 ( 0.050)\tLoss 8.9868e-01 (8.9868e-01)\tAcc@1  72.66 ( 72.66)\tAcc@5  95.31 ( 95.31)\n",
      "Test: [51/79]\tTime  0.051 ( 0.051)\tLoss 7.4143e-01 (1.2603e+00)\tAcc@1  78.91 ( 66.25)\tAcc@5  97.66 ( 97.01)\n",
      "-------------- Run 4 --------------\n",
      "Trained model checkpoint successfully loaded\n",
      "Test: [ 1/79]\tTime  0.050 ( 0.050)\tLoss 1.6820e-01 (1.6820e-01)\tAcc@1  97.66 ( 97.66)\tAcc@5 100.00 (100.00)\n",
      "Test: [51/79]\tTime  0.058 ( 0.058)\tLoss 1.7128e-01 (3.7574e-01)\tAcc@1  95.31 ( 88.68)\tAcc@5 100.00 ( 99.83)\n",
      "-------------- Run 5 --------------\n",
      "Trained model checkpoint successfully loaded\n",
      "Test: [ 1/79]\tTime  0.052 ( 0.052)\tLoss 5.5662e-01 (5.5662e-01)\tAcc@1  81.25 ( 81.25)\tAcc@5  98.44 ( 98.44)\n",
      "Test: [51/79]\tTime  0.049 ( 0.051)\tLoss 4.0576e-01 (8.3725e-01)\tAcc@1  87.50 ( 74.85)\tAcc@5  99.22 ( 98.77)\n",
      "-------------- Run 6 --------------\n",
      "Trained model checkpoint successfully loaded\n",
      "Test: [ 1/79]\tTime  0.052 ( 0.052)\tLoss 4.0075e-01 (4.0075e-01)\tAcc@1  85.16 ( 85.16)\tAcc@5  99.22 ( 99.22)\n",
      "Test: [51/79]\tTime  0.049 ( 0.050)\tLoss 2.2895e-01 (5.7576e-01)\tAcc@1  96.09 ( 82.63)\tAcc@5  99.22 ( 99.19)\n",
      "-------------- Run 7 --------------\n",
      "Trained model checkpoint successfully loaded\n",
      "Test: [ 1/79]\tTime  0.052 ( 0.052)\tLoss 4.6232e-01 (4.6232e-01)\tAcc@1  85.94 ( 85.94)\tAcc@5  97.66 ( 97.66)\n",
      "Test: [51/79]\tTime  0.052 ( 0.051)\tLoss 2.8781e-01 (6.2595e-01)\tAcc@1  95.31 ( 83.50)\tAcc@5  99.22 ( 98.30)\n",
      "-------------- Run 8 --------------\n",
      "Trained model checkpoint successfully loaded\n",
      "Test: [ 1/79]\tTime  0.057 ( 0.057)\tLoss 6.2926e-01 (6.2926e-01)\tAcc@1  78.91 ( 78.91)\tAcc@5  99.22 ( 99.22)\n",
      "Test: [51/79]\tTime  0.050 ( 0.057)\tLoss 4.6684e-01 (9.2619e-01)\tAcc@1  89.06 ( 74.10)\tAcc@5  99.22 ( 98.38)\n",
      "-------------- Run 9 --------------\n",
      "Trained model checkpoint successfully loaded\n",
      "Test: [ 1/79]\tTime  0.051 ( 0.051)\tLoss 8.1291e-01 (8.1291e-01)\tAcc@1  71.09 ( 71.09)\tAcc@5  97.66 ( 97.66)\n",
      "Test: [51/79]\tTime  0.050 ( 0.051)\tLoss 4.7047e-01 (9.6734e-01)\tAcc@1  85.16 ( 71.84)\tAcc@5  99.22 ( 98.61)\n",
      "-------------- Run 10 --------------\n",
      "Trained model checkpoint successfully loaded\n",
      "Test: [ 1/79]\tTime  0.050 ( 0.050)\tLoss 1.7058e+00 (1.7058e+00)\tAcc@1  64.06 ( 64.06)\tAcc@5  97.66 ( 97.66)\n",
      "Test: [51/79]\tTime  0.051 ( 0.050)\tLoss 1.1672e+00 (1.7734e+00)\tAcc@1  74.22 ( 58.39)\tAcc@5  98.44 ( 97.15)\n",
      "-------------- Run 11 --------------\n",
      "Trained model checkpoint successfully loaded\n",
      "Test: [ 1/79]\tTime  0.050 ( 0.050)\tLoss 3.7411e-01 (3.7411e-01)\tAcc@1  85.94 ( 85.94)\tAcc@5  99.22 ( 99.22)\n",
      "Test: [51/79]\tTime  0.064 ( 0.051)\tLoss 2.4720e-01 (6.0548e-01)\tAcc@1  94.53 ( 81.97)\tAcc@5  99.22 ( 99.05)\n",
      "-------------- Run 12 --------------\n",
      "Trained model checkpoint successfully loaded\n",
      "Test: [ 1/79]\tTime  0.059 ( 0.059)\tLoss 1.3937e+00 (1.3937e+00)\tAcc@1  59.38 ( 59.38)\tAcc@5  94.53 ( 94.53)\n",
      "Test: [51/79]\tTime  0.049 ( 0.056)\tLoss 1.1585e+00 (1.8284e+00)\tAcc@1  64.06 ( 53.89)\tAcc@5  97.66 ( 96.89)\n",
      "-------------- Run 13 --------------\n",
      "Trained model checkpoint successfully loaded\n",
      "Test: [ 1/79]\tTime  0.051 ( 0.051)\tLoss 4.4958e-01 (4.4958e-01)\tAcc@1  82.81 ( 82.81)\tAcc@5  99.22 ( 99.22)\n",
      "Test: [51/79]\tTime  0.049 ( 0.051)\tLoss 3.0738e-01 (7.2437e-01)\tAcc@1  92.97 ( 79.12)\tAcc@5  99.22 ( 99.13)\n",
      "-------------- Run 14 --------------\n",
      "Trained model checkpoint successfully loaded\n",
      "Test: [ 1/79]\tTime  0.050 ( 0.050)\tLoss 7.5396e-01 (7.5396e-01)\tAcc@1  76.56 ( 76.56)\tAcc@5  99.22 ( 99.22)\n",
      "Test: [51/79]\tTime  0.050 ( 0.051)\tLoss 6.5412e-01 (1.1269e+00)\tAcc@1  81.25 ( 69.91)\tAcc@5  99.22 ( 98.45)\n",
      "-------------- Run 15 --------------\n",
      "Trained model checkpoint successfully loaded\n",
      "Test: [ 1/79]\tTime  0.049 ( 0.049)\tLoss 2.5548e-01 (2.5548e-01)\tAcc@1  88.28 ( 88.28)\tAcc@5 100.00 (100.00)\n",
      "Test: [51/79]\tTime  0.050 ( 0.051)\tLoss 1.5838e-01 (4.8990e-01)\tAcc@1  96.88 ( 84.96)\tAcc@5  99.22 ( 99.45)\n",
      "-------------- Run 16 --------------\n",
      "Trained model checkpoint successfully loaded\n",
      "Test: [ 1/79]\tTime  0.060 ( 0.060)\tLoss 2.2963e-01 (2.2963e-01)\tAcc@1  89.84 ( 89.84)\tAcc@5 100.00 (100.00)\n",
      "Test: [51/79]\tTime  0.052 ( 0.056)\tLoss 1.3985e-01 (4.4700e-01)\tAcc@1  97.66 ( 86.99)\tAcc@5  99.22 ( 99.51)\n",
      "-------------- Run 17 --------------\n",
      "Trained model checkpoint successfully loaded\n",
      "Test: [ 1/79]\tTime  0.049 ( 0.049)\tLoss 9.9490e-01 (9.9490e-01)\tAcc@1  71.09 ( 71.09)\tAcc@5 100.00 (100.00)\n",
      "Test: [51/79]\tTime  0.050 ( 0.051)\tLoss 9.7260e-01 (1.5199e+00)\tAcc@1  75.00 ( 64.92)\tAcc@5  99.22 ( 99.34)\n",
      "-------------- Run 18 --------------\n",
      "Trained model checkpoint successfully loaded\n",
      "Test: [ 1/79]\tTime  0.052 ( 0.052)\tLoss 4.4483e-01 (4.4483e-01)\tAcc@1  83.59 ( 83.59)\tAcc@5 100.00 (100.00)\n",
      "Test: [51/79]\tTime  0.050 ( 0.050)\tLoss 3.4817e-01 (8.1114e-01)\tAcc@1  90.62 ( 77.14)\tAcc@5  99.22 ( 98.87)\n",
      "-------------- Run 19 --------------\n",
      "Trained model checkpoint successfully loaded\n",
      "Test: [ 1/79]\tTime  0.051 ( 0.051)\tLoss 5.9344e-01 (5.9344e-01)\tAcc@1  78.12 ( 78.12)\tAcc@5 100.00 (100.00)\n",
      "Test: [51/79]\tTime  0.050 ( 0.050)\tLoss 5.8763e-01 (1.0822e+00)\tAcc@1  82.03 ( 70.28)\tAcc@5  99.22 ( 99.33)\n",
      "-------------- Run 20 --------------\n",
      "Trained model checkpoint successfully loaded\n",
      "Test: [ 1/79]\tTime  0.057 ( 0.057)\tLoss 1.3901e+00 (1.3901e+00)\tAcc@1  57.03 ( 57.03)\tAcc@5  96.09 ( 96.09)\n",
      "Test: [51/79]\tTime  0.049 ( 0.055)\tLoss 1.0445e+00 (1.6624e+00)\tAcc@1  67.19 ( 57.44)\tAcc@5  97.66 ( 96.52)\n",
      "-------------- Run 1 --------------\n",
      "Trained model checkpoint successfully loaded\n",
      "Test: [ 1/79]\tTime  0.051 ( 0.051)\tLoss 8.4175e-01 (8.4175e-01)\tAcc@1  75.78 ( 75.78)\tAcc@5  97.66 ( 97.66)\n",
      "Test: [51/79]\tTime  0.055 ( 0.051)\tLoss 5.0841e-01 (9.8561e-01)\tAcc@1  86.72 ( 72.81)\tAcc@5  99.22 ( 97.56)\n",
      "-------------- Run 2 --------------\n",
      "Trained model checkpoint successfully loaded\n",
      "Test: [ 1/79]\tTime  0.051 ( 0.051)\tLoss 1.5618e+00 (1.5618e+00)\tAcc@1  55.47 ( 55.47)\tAcc@5  94.53 ( 94.53)\n",
      "Test: [51/79]\tTime  0.051 ( 0.050)\tLoss 1.1231e+00 (1.9235e+00)\tAcc@1  61.72 ( 51.72)\tAcc@5  97.66 ( 96.66)\n",
      "-------------- Run 3 --------------\n",
      "Trained model checkpoint successfully loaded\n",
      "Test: [ 1/79]\tTime  0.052 ( 0.052)\tLoss 5.3195e-01 (5.3195e-01)\tAcc@1  79.69 ( 79.69)\tAcc@5  99.22 ( 99.22)\n",
      "Test: [51/79]\tTime  0.050 ( 0.051)\tLoss 2.9676e-01 (6.4115e-01)\tAcc@1  92.19 ( 81.13)\tAcc@5  99.22 ( 99.31)\n",
      "-------------- Run 4 --------------\n",
      "Trained model checkpoint successfully loaded\n",
      "Test: [ 1/79]\tTime  0.062 ( 0.062)\tLoss 5.5089e+00 (5.5089e+00)\tAcc@1  25.00 ( 25.00)\tAcc@5  78.91 ( 78.91)\n",
      "Test: [51/79]\tTime  0.050 ( 0.055)\tLoss 4.0912e+00 (5.4916e+00)\tAcc@1  35.16 ( 25.66)\tAcc@5  83.59 ( 83.96)\n",
      "-------------- Run 5 --------------\n",
      "Trained model checkpoint successfully loaded\n",
      "Test: [ 1/79]\tTime  0.051 ( 0.051)\tLoss 2.7627e+00 (2.7627e+00)\tAcc@1  42.19 ( 42.19)\tAcc@5  94.53 ( 94.53)\n",
      "Test: [51/79]\tTime  0.050 ( 0.051)\tLoss 2.2350e+00 (3.2176e+00)\tAcc@1  44.53 ( 37.79)\tAcc@5  96.88 ( 95.50)\n",
      "-------------- Run 6 --------------\n",
      "Trained model checkpoint successfully loaded\n",
      "Test: [ 1/79]\tTime  0.053 ( 0.053)\tLoss 5.9805e-01 (5.9805e-01)\tAcc@1  76.56 ( 76.56)\tAcc@5 100.00 (100.00)\n",
      "Test: [51/79]\tTime  0.051 ( 0.051)\tLoss 4.6210e-01 (8.1936e-01)\tAcc@1  82.03 ( 75.61)\tAcc@5  99.22 ( 98.85)\n",
      "-------------- Run 7 --------------\n",
      "Trained model checkpoint successfully loaded\n",
      "Test: [ 1/79]\tTime  0.050 ( 0.050)\tLoss 3.0641e+00 (3.0641e+00)\tAcc@1  42.97 ( 42.97)\tAcc@5  92.97 ( 92.97)\n",
      "Test: [51/79]\tTime  0.061 ( 0.054)\tLoss 2.0974e+00 (3.0492e+00)\tAcc@1  57.03 ( 41.07)\tAcc@5  91.41 ( 91.84)\n",
      "-------------- Run 8 --------------\n",
      "Trained model checkpoint successfully loaded\n",
      "Test: [ 1/79]\tTime  0.063 ( 0.063)\tLoss 3.8007e-01 (3.8007e-01)\tAcc@1  85.94 ( 85.94)\tAcc@5 100.00 (100.00)\n",
      "Test: [51/79]\tTime  0.057 ( 0.061)\tLoss 3.0692e-01 (6.7535e-01)\tAcc@1  90.62 ( 80.39)\tAcc@5  99.22 ( 99.26)\n",
      "-------------- Run 9 --------------\n",
      "Trained model checkpoint successfully loaded\n",
      "Test: [ 1/79]\tTime  0.055 ( 0.055)\tLoss 1.9762e+00 (1.9762e+00)\tAcc@1  47.66 ( 47.66)\tAcc@5  94.53 ( 94.53)\n",
      "Test: [51/79]\tTime  0.051 ( 0.056)\tLoss 1.2936e+00 (2.2121e+00)\tAcc@1  59.38 ( 49.42)\tAcc@5  97.66 ( 95.63)\n",
      "-------------- Run 10 --------------\n",
      "Trained model checkpoint successfully loaded\n",
      "Test: [ 1/79]\tTime  0.049 ( 0.049)\tLoss 1.4105e+00 (1.4105e+00)\tAcc@1  62.50 ( 62.50)\tAcc@5  96.88 ( 96.88)\n",
      "Test: [51/79]\tTime  0.049 ( 0.050)\tLoss 9.7573e-01 (1.5635e+00)\tAcc@1  74.22 ( 59.56)\tAcc@5  98.44 ( 96.28)\n",
      "-------------- Run 11 --------------\n",
      "Trained model checkpoint successfully loaded\n",
      "Test: [ 1/79]\tTime  0.050 ( 0.050)\tLoss 9.7007e-01 (9.7007e-01)\tAcc@1  69.53 ( 69.53)\tAcc@5  97.66 ( 97.66)\n",
      "Test: [51/79]\tTime  0.060 ( 0.056)\tLoss 6.2162e-01 (1.0343e+00)\tAcc@1  81.25 ( 71.66)\tAcc@5  98.44 ( 97.93)\n",
      "-------------- Run 12 --------------\n",
      "Trained model checkpoint successfully loaded\n",
      "Test: [ 1/79]\tTime  0.049 ( 0.049)\tLoss 4.5112e+00 (4.5112e+00)\tAcc@1  28.12 ( 28.12)\tAcc@5  89.06 ( 89.06)\n",
      "Test: [51/79]\tTime  0.051 ( 0.050)\tLoss 3.4138e+00 (4.6208e+00)\tAcc@1  36.72 ( 28.16)\tAcc@5  90.62 ( 91.79)\n",
      "-------------- Run 13 --------------\n",
      "Trained model checkpoint successfully loaded\n",
      "Test: [ 1/79]\tTime  0.051 ( 0.051)\tLoss 1.1578e+00 (1.1578e+00)\tAcc@1  64.06 ( 64.06)\tAcc@5  96.88 ( 96.88)\n",
      "Test: [51/79]\tTime  0.057 ( 0.050)\tLoss 8.2535e-01 (1.2775e+00)\tAcc@1  73.44 ( 66.10)\tAcc@5  98.44 ( 97.24)\n",
      "-------------- Run 14 --------------\n",
      "Trained model checkpoint successfully loaded\n",
      "Test: [ 1/79]\tTime  0.051 ( 0.051)\tLoss 1.1096e+00 (1.1096e+00)\tAcc@1  67.19 ( 67.19)\tAcc@5  97.66 ( 97.66)\n",
      "Test: [51/79]\tTime  0.051 ( 0.050)\tLoss 6.4773e-01 (1.3104e+00)\tAcc@1  82.81 ( 66.50)\tAcc@5  99.22 ( 97.50)\n",
      "-------------- Run 15 --------------\n",
      "Trained model checkpoint successfully loaded\n",
      "Test: [ 1/79]\tTime  0.052 ( 0.052)\tLoss 2.9313e+00 (2.9313e+00)\tAcc@1  35.94 ( 35.94)\tAcc@5  94.53 ( 94.53)\n",
      "Test: [51/79]\tTime  0.059 ( 0.055)\tLoss 2.2066e+00 (3.1617e+00)\tAcc@1  46.88 ( 35.95)\tAcc@5  98.44 ( 95.17)\n",
      "-------------- Run 16 --------------\n",
      "Trained model checkpoint successfully loaded\n",
      "Test: [ 1/79]\tTime  0.050 ( 0.050)\tLoss 9.2728e-01 (9.2728e-01)\tAcc@1  73.44 ( 73.44)\tAcc@5  97.66 ( 97.66)\n",
      "Test: [51/79]\tTime  0.050 ( 0.051)\tLoss 6.3286e-01 (1.0357e+00)\tAcc@1  83.59 ( 72.09)\tAcc@5  99.22 ( 97.56)\n",
      "-------------- Run 17 --------------\n",
      "Trained model checkpoint successfully loaded\n",
      "Test: [ 1/79]\tTime  0.049 ( 0.049)\tLoss 8.1126e-01 (8.1126e-01)\tAcc@1  72.66 ( 72.66)\tAcc@5  96.88 ( 96.88)\n",
      "Test: [51/79]\tTime  0.050 ( 0.051)\tLoss 5.6859e-01 (1.0605e+00)\tAcc@1  84.38 ( 70.33)\tAcc@5  99.22 ( 98.02)\n",
      "-------------- Run 18 --------------\n",
      "Trained model checkpoint successfully loaded\n",
      "Test: [ 1/79]\tTime  0.050 ( 0.050)\tLoss 1.7413e+00 (1.7413e+00)\tAcc@1  64.84 ( 64.84)\tAcc@5  95.31 ( 95.31)\n",
      "Test: [51/79]\tTime  0.049 ( 0.050)\tLoss 1.0989e+00 (1.7094e+00)\tAcc@1  78.91 ( 62.36)\tAcc@5  98.44 ( 96.46)\n",
      "-------------- Run 19 --------------\n",
      "Trained model checkpoint successfully loaded\n",
      "Test: [ 1/79]\tTime  0.050 ( 0.050)\tLoss 2.8861e+00 (2.8861e+00)\tAcc@1  38.28 ( 38.28)\tAcc@5  92.19 ( 92.19)\n",
      "Test: [51/79]\tTime  0.058 ( 0.055)\tLoss 2.1741e+00 (2.9713e+00)\tAcc@1  56.25 ( 41.76)\tAcc@5  94.53 ( 93.73)\n",
      "-------------- Run 20 --------------\n",
      "Trained model checkpoint successfully loaded\n",
      "Test: [ 1/79]\tTime  0.051 ( 0.051)\tLoss 1.7795e+00 (1.7795e+00)\tAcc@1  64.84 ( 64.84)\tAcc@5  96.09 ( 96.09)\n",
      "Test: [51/79]\tTime  0.051 ( 0.051)\tLoss 1.1200e+00 (1.7365e+00)\tAcc@1  75.00 ( 59.67)\tAcc@5  96.88 ( 95.59)\n",
      "-------------- Run 1 --------------\n",
      "Trained model checkpoint successfully loaded\n",
      "Test: [ 1/79]\tTime  0.049 ( 0.049)\tLoss 1.3671e+00 (1.3671e+00)\tAcc@1  58.59 ( 58.59)\tAcc@5  96.88 ( 96.88)\n",
      "Test: [51/79]\tTime  0.049 ( 0.050)\tLoss 8.1280e-01 (1.6131e+00)\tAcc@1  78.91 ( 57.84)\tAcc@5  98.44 ( 97.01)\n",
      "-------------- Run 2 --------------\n",
      "Trained model checkpoint successfully loaded\n",
      "Test: [ 1/79]\tTime  0.050 ( 0.050)\tLoss 1.9522e+00 (1.9522e+00)\tAcc@1  57.81 ( 57.81)\tAcc@5  95.31 ( 95.31)\n",
      "Test: [51/79]\tTime  0.049 ( 0.050)\tLoss 1.4738e+00 (1.9621e+00)\tAcc@1  69.53 ( 56.27)\tAcc@5  95.31 ( 94.62)\n",
      "-------------- Run 3 --------------\n",
      "Trained model checkpoint successfully loaded\n",
      "Test: [ 1/79]\tTime  0.049 ( 0.049)\tLoss 1.4667e+00 (1.4667e+00)\tAcc@1  58.59 ( 58.59)\tAcc@5  94.53 ( 94.53)\n",
      "Test: [51/79]\tTime  0.059 ( 0.055)\tLoss 1.1298e+00 (2.0532e+00)\tAcc@1  68.75 ( 54.52)\tAcc@5  99.22 ( 96.75)\n",
      "-------------- Run 4 --------------\n",
      "Trained model checkpoint successfully loaded\n",
      "Test: [ 1/79]\tTime  0.054 ( 0.054)\tLoss 2.0393e+00 (2.0393e+00)\tAcc@1  53.91 ( 53.91)\tAcc@5  96.09 ( 96.09)\n",
      "Test: [51/79]\tTime  0.051 ( 0.052)\tLoss 1.5976e+00 (2.0426e+00)\tAcc@1  62.50 ( 53.95)\tAcc@5  92.97 ( 94.50)\n",
      "-------------- Run 5 --------------\n",
      "Trained model checkpoint successfully loaded\n",
      "Test: [ 1/79]\tTime  0.053 ( 0.053)\tLoss 7.8811e-01 (7.8811e-01)\tAcc@1  75.00 ( 75.00)\tAcc@5  99.22 ( 99.22)\n",
      "Test: [51/79]\tTime  0.055 ( 0.053)\tLoss 4.7050e-01 (1.0025e+00)\tAcc@1  88.28 ( 72.38)\tAcc@5  99.22 ( 98.38)\n",
      "-------------- Run 6 --------------\n",
      "Trained model checkpoint successfully loaded\n",
      "Test: [ 1/79]\tTime  0.051 ( 0.051)\tLoss 1.3630e+00 (1.3630e+00)\tAcc@1  61.72 ( 61.72)\tAcc@5  96.88 ( 96.88)\n",
      "Test: [51/79]\tTime  0.052 ( 0.051)\tLoss 1.0243e+00 (1.4376e+00)\tAcc@1  71.09 ( 61.55)\tAcc@5  97.66 ( 96.12)\n",
      "-------------- Run 7 --------------\n",
      "Trained model checkpoint successfully loaded\n",
      "Test: [ 1/79]\tTime  0.057 ( 0.057)\tLoss 9.6319e-01 (9.6319e-01)\tAcc@1  66.41 ( 66.41)\tAcc@5  98.44 ( 98.44)\n",
      "Test: [51/79]\tTime  0.050 ( 0.058)\tLoss 6.4065e-01 (1.3485e+00)\tAcc@1  78.91 ( 64.55)\tAcc@5  99.22 ( 98.36)\n",
      "-------------- Run 8 --------------\n",
      "Trained model checkpoint successfully loaded\n",
      "Test: [ 1/79]\tTime  0.052 ( 0.052)\tLoss 1.5257e+00 (1.5257e+00)\tAcc@1  54.69 ( 54.69)\tAcc@5  96.09 ( 96.09)\n",
      "Test: [51/79]\tTime  0.054 ( 0.053)\tLoss 1.0598e+00 (1.5765e+00)\tAcc@1  71.88 ( 59.41)\tAcc@5  97.66 ( 95.48)\n",
      "-------------- Run 9 --------------\n",
      "Trained model checkpoint successfully loaded\n",
      "Test: [ 1/79]\tTime  0.050 ( 0.050)\tLoss 1.0977e+00 (1.0977e+00)\tAcc@1  70.31 ( 70.31)\tAcc@5  96.88 ( 96.88)\n",
      "Test: [51/79]\tTime  0.064 ( 0.055)\tLoss 7.5855e-01 (1.1983e+00)\tAcc@1  76.56 ( 68.61)\tAcc@5  98.44 ( 96.81)\n",
      "-------------- Run 10 --------------\n",
      "Trained model checkpoint successfully loaded\n",
      "Test: [ 1/79]\tTime  0.055 ( 0.055)\tLoss 1.1560e+00 (1.1560e+00)\tAcc@1  64.84 ( 64.84)\tAcc@5  97.66 ( 97.66)\n",
      "Test: [51/79]\tTime  0.062 ( 0.064)\tLoss 9.2622e-01 (1.1683e+00)\tAcc@1  75.78 ( 64.86)\tAcc@5  98.44 ( 97.81)\n",
      "-------------- Run 11 --------------\n",
      "Trained model checkpoint successfully loaded\n",
      "Test: [ 1/79]\tTime  0.058 ( 0.058)\tLoss 3.4925e+00 (3.4925e+00)\tAcc@1  34.38 ( 34.38)\tAcc@5  91.41 ( 91.41)\n",
      "Test: [51/79]\tTime  0.058 ( 0.058)\tLoss 2.6371e+00 (3.7103e+00)\tAcc@1  43.75 ( 32.94)\tAcc@5  96.09 ( 93.06)\n",
      "-------------- Run 12 --------------\n",
      "Trained model checkpoint successfully loaded\n",
      "Test: [ 1/79]\tTime  0.061 ( 0.061)\tLoss 7.2936e-01 (7.2936e-01)\tAcc@1  76.56 ( 76.56)\tAcc@5  98.44 ( 98.44)\n",
      "Test: [51/79]\tTime  0.058 ( 0.059)\tLoss 5.7344e-01 (9.9457e-01)\tAcc@1  82.03 ( 72.78)\tAcc@5  99.22 ( 97.90)\n",
      "-------------- Run 13 --------------\n",
      "Trained model checkpoint successfully loaded\n",
      "Test: [ 1/79]\tTime  0.052 ( 0.052)\tLoss 2.4224e+00 (2.4224e+00)\tAcc@1  41.41 ( 41.41)\tAcc@5  93.75 ( 93.75)\n",
      "Test: [51/79]\tTime  0.056 ( 0.054)\tLoss 1.7523e+00 (2.6539e+00)\tAcc@1  51.56 ( 42.83)\tAcc@5  97.66 ( 94.59)\n",
      "-------------- Run 14 --------------\n",
      "Trained model checkpoint successfully loaded\n",
      "Test: [ 1/79]\tTime  0.053 ( 0.053)\tLoss 2.9504e+00 (2.9504e+00)\tAcc@1  37.50 ( 37.50)\tAcc@5  93.75 ( 93.75)\n",
      "Test: [51/79]\tTime  0.058 ( 0.059)\tLoss 2.2055e+00 (3.3702e+00)\tAcc@1  42.97 ( 35.66)\tAcc@5  97.66 ( 94.22)\n",
      "-------------- Run 15 --------------\n",
      "Trained model checkpoint successfully loaded\n",
      "Test: [ 1/79]\tTime  0.054 ( 0.054)\tLoss 1.0342e+00 (1.0342e+00)\tAcc@1  67.19 ( 67.19)\tAcc@5  96.88 ( 96.88)\n",
      "Test: [51/79]\tTime  0.053 ( 0.054)\tLoss 6.9387e-01 (1.1806e+00)\tAcc@1  79.69 ( 67.25)\tAcc@5  99.22 ( 97.29)\n",
      "-------------- Run 16 --------------\n",
      "Trained model checkpoint successfully loaded\n",
      "Test: [ 1/79]\tTime  0.053 ( 0.053)\tLoss 3.4882e+00 (3.4882e+00)\tAcc@1  34.38 ( 34.38)\tAcc@5  92.19 ( 92.19)\n",
      "Test: [51/79]\tTime  0.056 ( 0.054)\tLoss 2.7276e+00 (3.7996e+00)\tAcc@1  39.06 ( 32.83)\tAcc@5  95.31 ( 91.24)\n",
      "-------------- Run 17 --------------\n",
      "Trained model checkpoint successfully loaded\n",
      "Test: [ 1/79]\tTime  0.053 ( 0.053)\tLoss 1.2419e+00 (1.2419e+00)\tAcc@1  60.16 ( 60.16)\tAcc@5  96.88 ( 96.88)\n",
      "Test: [51/79]\tTime  0.054 ( 0.055)\tLoss 8.1995e-01 (1.3948e+00)\tAcc@1  71.88 ( 59.87)\tAcc@5  98.44 ( 97.03)\n",
      "-------------- Run 18 --------------\n",
      "Trained model checkpoint successfully loaded\n",
      "Test: [ 1/79]\tTime  0.061 ( 0.061)\tLoss 5.1669e+00 (5.1669e+00)\tAcc@1  25.78 ( 25.78)\tAcc@5  93.75 ( 93.75)\n",
      "Test: [51/79]\tTime  0.057 ( 0.060)\tLoss 4.8383e+00 (5.7161e+00)\tAcc@1  28.12 ( 24.07)\tAcc@5  95.31 ( 91.85)\n",
      "-------------- Run 19 --------------\n",
      "Trained model checkpoint successfully loaded\n",
      "Test: [ 1/79]\tTime  0.052 ( 0.052)\tLoss 5.4045e-01 (5.4045e-01)\tAcc@1  81.25 ( 81.25)\tAcc@5  99.22 ( 99.22)\n",
      "Test: [51/79]\tTime  0.056 ( 0.054)\tLoss 3.8711e-01 (7.9893e-01)\tAcc@1  88.28 ( 77.41)\tAcc@5  99.22 ( 98.73)\n",
      "-------------- Run 20 --------------\n",
      "Trained model checkpoint successfully loaded\n",
      "Test: [ 1/79]\tTime  0.056 ( 0.056)\tLoss 1.7212e+00 (1.7212e+00)\tAcc@1  53.91 ( 53.91)\tAcc@5  96.88 ( 96.88)\n",
      "Test: [51/79]\tTime  0.056 ( 0.055)\tLoss 1.4004e+00 (1.7959e+00)\tAcc@1  65.62 ( 54.52)\tAcc@5  96.88 ( 96.00)\n"
     ]
    }
   ],
   "source": [
    "run = 20\n",
    "test_results_dict = {}\n",
    "\n",
    "for dr in np.arange(0.1, 0.6, 0.1):\n",
    "    \n",
    "    for r in range(run):\n",
    "        print(f'-------------- Drop rate {dr} Run {r+1} --------------')\n",
    "        cur_model = model_class(# drop_probs=model_params.get('drop_prob'),\n",
    "                                drop_probs=dr,\n",
    "                                out_1=model_params.get('out_1'),\n",
    "                                er_1=model_params.get('er_1'),\n",
    "                                out_2=model_params.get('out_2'),\n",
    "                                er_2=model_params.get('er_2'))\n",
    "\n",
    "        # model trained with drop rate = 50%\n",
    "        cur_model.load_state_dict(model_trained_state['state_dict'])\n",
    "        print('Trained model checkpoint successfully loaded')\n",
    "        \n",
    "        cur_acc, cur_loss = validate(val_loader, cur_model, criterion, val_args(print_freq=50))\n",
    "        acc_lst.append(cur_acc.item())\n",
    "        loss_lst.append(cur_loss)\n",
    "\n",
    "    test_results_dict.update({dr: {'acc': acc_lst,\n",
    "                                   'loss': loss_lst}\n",
    "                             })"
   ]
  },
  {
   "cell_type": "code",
   "execution_count": 43,
   "id": "2915135c-32fe-4ca4-9c88-a00e07af0d83",
   "metadata": {},
   "outputs": [],
   "source": [
    "# model_1 = model_class(drop_probs=0.5,\n",
    "#                     out_1=model_params.get('out_1'),\n",
    "#                     er_1=model_params.get('er_1'),\n",
    "#                     out_2=model_params.get('out_2'),\n",
    "#                     er_2=model_params.get('er_2'))\n",
    "# model_1.load_state_dict(model_trained_state['state_dict'])"
   ]
  },
  {
   "cell_type": "code",
   "execution_count": 44,
   "id": "8d2946a8-b320-4db0-a36a-0dccbd75dec0",
   "metadata": {},
   "outputs": [],
   "source": [
    "# model_2 = model_class(drop_probs=0.5,\n",
    "#                     out_1=model_params.get('out_1'),\n",
    "#                     er_1=model_params.get('er_1'),\n",
    "#                     out_2=model_params.get('out_2'),\n",
    "#                     er_2=model_params.get('er_2'))\n",
    "# model_2.load_state_dict(model_trained_state['state_dict'])"
   ]
  },
  {
   "cell_type": "code",
   "execution_count": 69,
   "id": "d67d92d0-ea39-460f-b149-0d9835961ebb",
   "metadata": {},
   "outputs": [
    {
     "data": {
      "text/plain": [
       "Text(0.5, 1.0, '\\\\DCtwoBottlenecks_dr0.5_out1_4_er1_6_out2_8_er2_6')"
      ]
     },
     "execution_count": 69,
     "metadata": {},
     "output_type": "execute_result"
    },
    {
     "data": {
      "image/png": "[encoded data removed]",
      "text/plain": [
       "<Figure size 640x480 with 1 Axes>"
      ]
     },
     "metadata": {},
     "output_type": "display_data"
    }
   ],
   "source": [
    "_ = plt.boxplot([v.get('acc') for v in test_results_dict.values()], labels=[round(k, 1) for k in test_results_dict.keys()])\n",
    "plt.xlabel('Validation stage Drop Rate')\n",
    "plt.ylabel('Accuracy')\n",
    "plt.title(model_param_folder)"
   ]
  },
  {
   "cell_type": "code",
   "execution_count": null,
   "id": "40260f28-6fc2-4106-be77-7369414997f3",
   "metadata": {},
   "outputs": [],
   "source": []
  }
 ],
 "metadata": {
  "kernelspec": {
   "display_name": "Python 3 (ipykernel)",
   "language": "python",
   "name": "python3"
  },
  "language_info": {
   "codemirror_mode": {
    "name": "ipython",
    "version": 3
   },
   "file_extension": ".py",
   "mimetype": "text/x-python",
   "name": "python",
   "nbconvert_exporter": "python",
   "pygments_lexer": "ipython3",
   "version": "3.8.18"
  }
 },
 "nbformat": 4,
 "nbformat_minor": 5
}
